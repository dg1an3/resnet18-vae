{
 "cells": [
  {
   "attachments": {},
   "cell_type": "markdown",
   "metadata": {},
   "source": [
    "## Now reload and inference"
   ]
  },
  {
   "cell_type": "code",
   "execution_count": 1,
   "metadata": {},
   "outputs": [],
   "source": [
    "from torch.utils.data import DataLoader\n",
    "\n",
    "from load_dataset import load_dataset\n",
    "\n",
    "infer_dataset = load_dataset(\n",
    "    \"cxr8\",\n",
    "    input_size=(\n",
    "        1,\n",
    "        448,\n",
    "        448,\n",
    "    ),\n",
    "    clahe_tile_size=8,\n",
    ")\n"
   ]
  },
  {
   "cell_type": "code",
   "execution_count": 2,
   "metadata": {},
   "outputs": [
    {
     "name": "stdout",
     "output_type": "stream",
     "text": [
      "D:\\data\\cxr8\\filtered\\no finding\\00000002_000.png torch.Size([1, 448, 448])\n"
     ]
    }
   ],
   "source": [
    "print(f\"{infer_dataset.imgs[0][0]} {infer_dataset[0][0].shape}\")\n"
   ]
  },
  {
   "cell_type": "code",
   "execution_count": null,
   "metadata": {},
   "outputs": [],
   "source": [
    "model.load_state_dict(torch.load(\"clahe.zip\"))\n"
   ]
  },
  {
   "cell_type": "code",
   "execution_count": null,
   "metadata": {},
   "outputs": [],
   "source": [
    "infer_loader = DataLoader(train_dataset, batch_size=64, shuffle=False)\n",
    "\n",
    "model = model.cpu()\n",
    "model.eval()\n",
    "batch_iter = iter(infer_loader)\n",
    "\n",
    "batch, _ = next(batch_iter)\n",
    "# batch = batch.cpu()\n",
    "print(batch.shape)\n"
   ]
  },
  {
   "cell_type": "code",
   "execution_count": null,
   "metadata": {},
   "outputs": [],
   "source": [
    "%matplotlib inline\n",
    "\n",
    "import matplotlib.pyplot as plt\n",
    "from IPython.display import clear_output, display\n",
    "\n",
    "batch, _ = next(batch_iter)\n",
    "print(batch.shape)\n",
    "\n",
    "# batch = batch.cpu()\n",
    "recon_batch, mu, log_var = model(batch)\n",
    "print(recon_batch.shape)\n",
    "\n",
    "# orig_data = batch.clone().cpu().detach().numpy()\n",
    "# recon_data = recon_batch.cpu().detach().numpy()\n",
    "\n",
    "fig, ax = plt.subplots(2, 5, figsize=(20,8))\n",
    "\n",
    "# print(v.shape)\n",
    "for n in range(5):\n",
    "    ax[0][n].imshow(torch.movedim(batch[n].clone().detach(), 0, -1), cmap='bone')\n",
    "    ax[1][n].imshow(torch.movedim(recon_batch[n].clone().detach(), 0, -1), cmap='bone')\n",
    "\n",
    "# display(plt.gcf())"
   ]
  },
  {
   "cell_type": "code",
   "execution_count": 10,
   "metadata": {},
   "outputs": [
    {
     "data": {
      "text/plain": [
       "'YYYY'"
      ]
     },
     "execution_count": 10,
     "metadata": {},
     "output_type": "execute_result"
    }
   ],
   "source": []
  },
  {
   "cell_type": "code",
   "execution_count": null,
   "metadata": {},
   "outputs": [],
   "source": []
  }
 ],
 "metadata": {
  "kernelspec": {
   "display_name": "venv39",
   "language": "python",
   "name": "python3"
  },
  "language_info": {
   "codemirror_mode": {
    "name": "ipython",
    "version": 3
   },
   "file_extension": ".py",
   "mimetype": "text/x-python",
   "name": "python",
   "nbconvert_exporter": "python",
   "pygments_lexer": "ipython3",
   "version": "3.9.7"
  },
  "orig_nbformat": 4
 },
 "nbformat": 4,
 "nbformat_minor": 2
}
