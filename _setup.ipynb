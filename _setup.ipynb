{
 "cells": [
  {
   "attachments": {},
   "cell_type": "markdown",
   "metadata": {},
   "source": [
    "# Devo Setup\n",
    "\n",
    "This notebook goes through the setup steps for a devo machine, including a VM"
   ]
  },
  {
   "attachments": {},
   "cell_type": "markdown",
   "metadata": {},
   "source": [
    "## Data loader for CXR8 dataset\n",
    "\n",
    "The [cxr8_dataset.py]() file contains a pytorch Dataset class for loading CXR8 data"
   ]
  },
  {
   "cell_type": "code",
   "execution_count": null,
   "metadata": {},
   "outputs": [],
   "source": [
    "import win32api\n",
    "from pathlib import Path\n",
    "\n",
    "root_path = Path(\"C:/\") / \"data\" / \"cxr8\"\n",
    "if not root_path.exists():\n",
    "    for drv in win32api.GetLogicalDriveStrings().split('\\000'):\n",
    "        if not drv:\n",
    "            continue\n",
    "\n",
    "        from pathlib import Path\n",
    "        drv = Path(drv)\n",
    "        for data_entry_csv in drv.glob('**/Data_Entry_*.csv'):\n",
    "            print(data_entry_csv)\n",
    "\n",
    "from cxr8_dataset import Cxr8Dataset\n",
    "cxr8ds = Cxr8Dataset(root_path)\n",
    "print(cxr8ds)\n",
    "\n",
    "print(cxr8ds[0:10])"
   ]
  },
  {
   "attachments": {},
   "cell_type": "markdown",
   "metadata": {},
   "source": [
    "## ARM template for creating VM in Azure\n",
    "To create a VM in Azure, an ARM template can be populated"
   ]
  },
  {
   "cell_type": "code",
   "execution_count": null,
   "metadata": {},
   "outputs": [],
   "source": []
  }
 ],
 "metadata": {
  "kernelspec": {
   "display_name": "venv39",
   "language": "python",
   "name": "python3"
  },
  "language_info": {
   "codemirror_mode": {
    "name": "ipython",
    "version": 3
   },
   "file_extension": ".py",
   "mimetype": "text/x-python",
   "name": "python",
   "nbconvert_exporter": "python",
   "pygments_lexer": "ipython3",
   "version": "3.9.7"
  },
  "orig_nbformat": 4
 },
 "nbformat": 4,
 "nbformat_minor": 2
}
