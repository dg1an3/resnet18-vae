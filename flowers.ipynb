{
 "cells": [
  {
   "cell_type": "code",
   "execution_count": null,
   "metadata": {},
   "outputs": [],
   "source": [
    "from oxflow_dataset import get_oxflow_dataset\n",
    "\n",
    "fds = get_oxflow_dataset(path=None)"
   ]
  },
  {
   "cell_type": "code",
   "execution_count": null,
   "metadata": {},
   "outputs": [],
   "source": [
    "import matplotlib.pyplot as plt\n",
    "\n",
    "test_img = fds[0][0]\n",
    "print(test_img.shape)\n",
    "plt.imshow(test_img[0, :, :], cmap=\"gray\")\n",
    "plt.imshow(test_img[1, :, :], cmap=\"Blues\")"
   ]
  },
  {
   "cell_type": "code",
   "execution_count": null,
   "metadata": {},
   "outputs": [],
   "source": [
    "from torch.utils.data import random_split\n",
    "\n",
    "train, test = random_split(fds, (0.9, 0.1))\n",
    "print(f\"len(train) = {len(train)}\")\n",
    "print(f\"train[0] tensor shape = {train[0][0].shape}\")"
   ]
  },
  {
   "cell_type": "code",
   "execution_count": null,
   "metadata": {},
   "outputs": [],
   "source": [
    "import pandas as pd\n",
    "\n",
    "train_df = pd.DataFrame(\n",
    "    {\n",
    "        \"channels\": map(lambda x: x[0].shape[0], train),\n",
    "        \"width\": map(lambda x: x[0].shape[1], train),\n",
    "        \"height\": map(lambda x: x[0].shape[2], train),\n",
    "        \"class\": map(lambda x: x[1], train),\n",
    "    }\n",
    ")\n",
    "train_df"
   ]
  },
  {
   "cell_type": "code",
   "execution_count": null,
   "metadata": {},
   "outputs": [],
   "source": [
    "from torch.utils.data.dataloader import DataLoader\n",
    "\n",
    "dl = DataLoader(train, batch_size=32, shuffle=True)\n",
    "\n",
    "for x, y in dl:\n",
    "    print(x, y)"
   ]
  },
  {
   "cell_type": "code",
   "execution_count": null,
   "metadata": {},
   "outputs": [],
   "source": []
  }
 ],
 "metadata": {
  "kernelspec": {
   "display_name": "venv310",
   "language": "python",
   "name": "python3"
  },
  "language_info": {
   "codemirror_mode": {
    "name": "ipython",
    "version": 3
   },
   "file_extension": ".py",
   "mimetype": "text/x-python",
   "name": "python",
   "nbconvert_exporter": "python",
   "pygments_lexer": "ipython3",
   "version": "3.10.11"
  },
  "orig_nbformat": 4
 },
 "nbformat": 4,
 "nbformat_minor": 2
}
