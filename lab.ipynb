{
 "cells": [
  {
   "cell_type": "code",
   "execution_count": 20,
   "metadata": {},
   "outputs": [
    {
     "name": "stdout",
     "output_type": "stream",
     "text": [
      "input.shape = torch.Size([5, 4, 512, 512])\n",
      "input.min(), .max() = -5.513580799102783, 5.091245174407959\n",
      "loc_out.shape = torch.Size([5, 32, 61, 61])\n",
      "loc_out[0].numel() = 119072\n",
      "loc_out.shape = torch.Size([5, 119072])\n"
     ]
    }
   ],
   "source": [
    "import torch\n",
    "import torch.nn as nn\n",
    "\n",
    "input_size = (4, 512, 512)\n",
    "input = torch.randn((5,) + input_size)\n",
    "print(f\"input.shape = {input.shape}\")\n",
    "print(f\"input.min(), .max() = {input.min()}, {input.max()}\")\n",
    "\n",
    "localization = nn.Sequential(\n",
    "    nn.Conv2d(input_size[0], 8, kernel_size=7),\n",
    "    nn.MaxPool2d(2, stride=2),\n",
    "    # nn.BatchNorm2d(8),\n",
    "    nn.ReLU(True),\n",
    "    nn.Conv2d(8, 16, kernel_size=5),\n",
    "    nn.MaxPool2d(2, stride=2),\n",
    "    # nn.BatchNorm2d(10),\n",
    "    nn.ReLU(True),\n",
    "    nn.Conv2d(16, 32, kernel_size=3),\n",
    "    nn.MaxPool2d(2, stride=2),\n",
    "    # nn.BatchNorm2d(10),\n",
    "    nn.ReLU(True),\n",
    ")\n",
    "loc_out = localization(input)\n",
    "print(f\"loc_out.shape = {loc_out.shape}\")\n",
    "print(f\"loc_out[0].numel() = {loc_out[0].numel()}\")\n",
    "\n",
    "loc_out = loc_out.view(-1, loc_out[0].numel())\n",
    "print(f\"loc_out.shape = {loc_out.shape}\")"
   ]
  },
  {
   "cell_type": "code",
   "execution_count": 24,
   "metadata": {},
   "outputs": [
    {
     "name": "stdout",
     "output_type": "stream",
     "text": [
      "fc_xlate_out.shape = torch.Size([5, 2])\n",
      "fc_xlate_out = tensor([[0.1160, 0.0276],\n",
      "        [0.0182, 0.0271],\n",
      "        [0.0780, 0.0421],\n",
      "        [0.0081, 0.0379],\n",
      "        [0.0816, 0.0503]], grad_fn=<ViewBackward0>)\n"
     ]
    }
   ],
   "source": [
    "fc_xlate = nn.Sequential(\n",
    "    nn.Linear(loc_out[0].numel(), 32),\n",
    "    nn.BatchNorm1d(32),\n",
    "    nn.ReLU(True),\n",
    "    nn.Linear(32, 2),\n",
    ")\n",
    "fc_xlate_out = fc_xlate(loc_out)\n",
    "fc_xlate_out *= 0.1\n",
    "fc_xlate_out = fc_xlate_out.view(-1, 2)\n",
    "print(f\"fc_xlate_out.shape = {fc_xlate_out.shape}\")\n",
    "print(f\"fc_xlate_out = {fc_xlate_out}\")"
   ]
  },
  {
   "cell_type": "code",
   "execution_count": 25,
   "metadata": {},
   "outputs": [
    {
     "name": "stdout",
     "output_type": "stream",
     "text": [
      "fc_rotate.shape = torch.Size([5, 1])\n",
      "fc_rotate = tensor([[11.8885],\n",
      "        [ 4.6743],\n",
      "        [ 6.1093],\n",
      "        [ 5.4224],\n",
      "        [ 3.3127]], grad_fn=<ViewBackward0>)\n"
     ]
    }
   ],
   "source": [
    "fc_rotate = nn.Sequential(\n",
    "    nn.Linear(loc_out[0].numel(), 32),\n",
    "    nn.BatchNorm1d(32),\n",
    "    nn.ReLU(True),\n",
    "    nn.Linear(32, 1),\n",
    ")\n",
    "fc_rotate_out = fc_rotate(loc_out)\n",
    "fc_rotate_out *= 10.0\n",
    "fc_rotate_out = fc_rotate_out.view(-1, 1)\n",
    "print(f\"fc_rotate.shape = {fc_rotate_out.shape}\")\n",
    "print(f\"fc_rotate = {fc_rotate_out}\")"
   ]
  },
  {
   "cell_type": "code",
   "execution_count": 41,
   "metadata": {},
   "outputs": [
    {
     "name": "stdout",
     "output_type": "stream",
     "text": [
      "tensor([[[ 0.7789,  0.6271, -0.3081],\n",
      "         [-0.6271,  0.7789,  0.2307]],\n",
      "\n",
      "        [[-0.0381,  0.9993, -1.0005],\n",
      "         [-0.9993, -0.0381,  0.0077]],\n",
      "\n",
      "        [[ 0.9849,  0.1730, -0.0161],\n",
      "         [-0.1730,  0.9849,  0.1211]],\n",
      "\n",
      "        [[ 0.6518,  0.7584, -0.5451],\n",
      "         [-0.7584,  0.6518,  0.2430]],\n",
      "\n",
      "        [[-0.9854,  0.1703, -0.9962],\n",
      "         [-0.1703, -0.9854, -0.8573]]], grad_fn=<ViewBackward0>)\n"
     ]
    }
   ],
   "source": [
    "sa = torch.sin(fc_rotate_out)\n",
    "ca = torch.cos(fc_rotate_out)\n",
    "\n",
    "matrix = torch.stack(\n",
    "    (\n",
    "        ca,\n",
    "        -sa,\n",
    "        (fc_xlate_out[:, 0] - 0.5).view(-1, 1) + 0.5 * (sa + ca),\n",
    "        sa,\n",
    "        ca,\n",
    "        (fc_xlate_out[:, 1] - 0.5).view(-1, 1) + 0.5 * (ca - sa),\n",
    "    ),\n",
    "    dim=-1,\n",
    ")\n",
    "matrix = matrix.view(-1, 2, 3)\n",
    "print(matrix)"
   ]
  },
  {
   "cell_type": "code",
   "execution_count": 40,
   "metadata": {},
   "outputs": [
    {
     "data": {
      "text/plain": [
       "tensor([[-0.3081],\n",
       "        [-1.0005],\n",
       "        [-0.0161],\n",
       "        [-0.5451],\n",
       "        [-0.9962]], grad_fn=<AddBackward0>)"
      ]
     },
     "execution_count": 40,
     "metadata": {},
     "output_type": "execute_result"
    }
   ],
   "source": [
    "(fc_xlate_out[:, 0] - 0.5).view(-1, 1) + 0.5 * (sa + ca)"
   ]
  },
  {
   "cell_type": "code",
   "execution_count": 38,
   "metadata": {},
   "outputs": [
    {
     "data": {
      "text/plain": [
       "tensor([[ 0.0759],\n",
       "        [-0.5187],\n",
       "        [ 0.4060],\n",
       "        [-0.0533],\n",
       "        [-0.5778]], grad_fn=<MulBackward0>)"
      ]
     },
     "execution_count": 38,
     "metadata": {},
     "output_type": "execute_result"
    }
   ],
   "source": [
    "0.5 * (sa + ca)"
   ]
  },
  {
   "cell_type": "code",
   "execution_count": 57,
   "metadata": {},
   "outputs": [
    {
     "name": "stdout",
     "output_type": "stream",
     "text": [
      "fc_xform_out.shape = torch.Size([5, 3])\n",
      "fc_xform_out = tensor([[-0.2356, -0.0443,  0.4960],\n",
      "        [ 0.3811,  0.2766,  0.3428],\n",
      "        [-0.1277,  0.0818,  0.3027],\n",
      "        [-0.0677,  0.3057,  0.1889],\n",
      "        [-0.1496,  0.1758,  0.2195]], grad_fn=<AddmmBackward0>)\n"
     ]
    }
   ],
   "source": [
    "fc_xform = nn.Sequential(\n",
    "    nn.Linear(loc_out[0].numel(), 32),\n",
    "    nn.BatchNorm1d(32),\n",
    "    nn.ReLU(True),\n",
    "    nn.Linear(32, 3),\n",
    ")\n",
    "fc_xform_out = fc_xform(loc_out)\n",
    "print(f\"fc_xform_out.shape = {fc_xform_out.shape}\")\n",
    "print(f\"fc_xform_out = {fc_xform_out}\")"
   ]
  },
  {
   "cell_type": "code",
   "execution_count": 81,
   "metadata": {},
   "outputs": [
    {
     "name": "stdout",
     "output_type": "stream",
     "text": [
      "ca = tensor([[0.8795],\n",
      "        [0.9418],\n",
      "        [0.9545],\n",
      "        [0.9822],\n",
      "        [0.9760]], grad_fn=<ViewBackward0>)\n",
      "sa = tensor([[0.4759],\n",
      "        [0.3361],\n",
      "        [0.2981],\n",
      "        [0.1878],\n",
      "        [0.2177]], grad_fn=<ViewBackward0>)\n",
      "tensor([[[ 0.8795, -0.4759,  0.0626],\n",
      "         [ 0.4759,  0.8795, -0.2220]],\n",
      "\n",
      "        [[ 0.9418, -0.3361,  0.5783],\n",
      "         [ 0.3361,  0.9418,  0.1376]],\n",
      "\n",
      "        [[ 0.9545, -0.2981,  0.0441],\n",
      "         [ 0.2981,  0.9545, -0.0446]],\n",
      "\n",
      "        [[ 0.9822, -0.1878,  0.0351],\n",
      "         [ 0.1878,  0.9822,  0.2207]],\n",
      "\n",
      "        [[ 0.9760, -0.2177, -0.0288],\n",
      "         [ 0.2177,  0.9760,  0.0789]]], grad_fn=<ViewBackward0>)\n"
     ]
    }
   ],
   "source": [
    "angle_factor = 1.0\n",
    "xlate_factor = 1.0\n",
    "\n",
    "sa = torch.sin(angle_factor * fc_xform_out[:, 2]).view(-1, 1)\n",
    "ca = torch.cos(angle_factor * fc_xform_out[:, 2]).view(-1, 1)\n",
    "print(f\"ca = {ca}\")\n",
    "print(f\"sa = {sa}\")\n",
    "\n",
    "x_shift = xlate_factor * fc_xform_out[:, 0]\n",
    "x_shift = x_shift.view(-1, 1)\n",
    "\n",
    "y_shift = xlate_factor * fc_xform_out[:, 1]\n",
    "y_shift = y_shift.view(-1, 1)\n",
    "\n",
    "matrix = torch.stack(\n",
    "    (\n",
    "        ca,\n",
    "        -sa,\n",
    "        -0.5 * (ca - sa) + x_shift + 0.5,\n",
    "        sa,\n",
    "        ca,\n",
    "        -0.5 * (sa + ca) + y_shift + 0.5,\n",
    "    ),\n",
    "    dim=-1,\n",
    ")\n",
    "matrix = matrix.view(-1, 2, 3)\n",
    "print(matrix)"
   ]
  },
  {
   "cell_type": "code",
   "execution_count": null,
   "metadata": {},
   "outputs": [],
   "source": []
  }
 ],
 "metadata": {
  "kernelspec": {
   "display_name": "venv310",
   "language": "python",
   "name": "python3"
  },
  "language_info": {
   "codemirror_mode": {
    "name": "ipython",
    "version": 3
   },
   "file_extension": ".py",
   "mimetype": "text/x-python",
   "name": "python",
   "nbconvert_exporter": "python",
   "pygments_lexer": "ipython3",
   "version": "3.10.11"
  },
  "orig_nbformat": 4
 },
 "nbformat": 4,
 "nbformat_minor": 2
}
